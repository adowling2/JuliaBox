{
 "cells": [
  {
   "cell_type": "code",
   "execution_count": null,
   "metadata": {},
   "outputs": [],
   "source": [
    "## Use the 'Packages' button to install the following packages\n",
    "\n",
    "# Already compiled on JuliaBox\n",
    "# Pkg.add(\"JuMP\") # Note: Already compiled on JuliaBox\n",
    "# Pkg.add(\"PyPlot\")\n",
    "\n",
    "# Need to add:\n",
    "# Pkg.add(\"CoinOptServices\")\n",
    "# Pkg.add(\"Cbc\")\n",
    "# Pkg.add(\"Clp\")"
   ]
  },
  {
   "cell_type": "code",
   "execution_count": null,
   "metadata": {},
   "outputs": [],
   "source": [
    "## Load the packages. This will take a while the first time you run this.\n",
    "\n",
    "using JuMP\n",
    "using Cbc\n",
    "using Clp\n",
    "using PyPlot"
   ]
  },
  {
   "cell_type": "code",
   "execution_count": null,
   "metadata": {},
   "outputs": [],
   "source": []
  }
 ],
 "metadata": {
  "kernelspec": {
   "display_name": "Julia 0.6.0",
   "language": "julia",
   "name": "julia-0.6"
  },
  "language_info": {
   "file_extension": ".jl",
   "mimetype": "application/julia",
   "name": "julia",
   "version": "0.6.0"
  }
 },
 "nbformat": 4,
 "nbformat_minor": 2
}
