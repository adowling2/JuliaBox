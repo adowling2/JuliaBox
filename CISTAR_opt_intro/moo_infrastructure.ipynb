{
 "cells": [
  {
   "cell_type": "markdown",
   "metadata": {},
   "source": [
    "# Infrastructure Multiobjective Example\n",
    "Created by Alex Dowling (adowling@nd.edu).\n",
    "Last updated March 1, 2018\n",
    "\n",
    "Model adapted from Dowling, Ruiz-Mercado, Zavala (2016), Computers & Chemical Engineering."
   ]
  },
  {
   "cell_type": "code",
   "execution_count": 157,
   "metadata": {},
   "outputs": [],
   "source": [
    "# Load libraries\n",
    "using JuMP\n",
    "using Cbc\n",
    "using PyPlot"
   ]
  },
  {
   "cell_type": "markdown",
   "metadata": {},
   "source": [
    "## Specify Input Data"
   ]
  },
  {
   "cell_type": "code",
   "execution_count": 158,
   "metadata": {},
   "outputs": [],
   "source": [
    "# Seed the random number generator.\n",
    "srand(1) # If you comment out this line, the results will be different each time the code runs.\n",
    "\n",
    "# Farms\n",
    "nFarms = 22\n",
    "farmLoc = rand(nFarms,2)\n",
    "\n",
    "# Urban Centers\n",
    "nUrban = 4\n",
    "cityLoc = rand(nUrban,2)\n",
    "\n",
    "# Lakes\n",
    "nWater = 6\n",
    "waterLoc = rand(nWater,2)\n",
    "\n",
    "# Candidate locations for processing sites\n",
    "nCand = 30\n",
    "candLoc = rand(nCand,2)\n",
    "\n",
    "# Specify data for facilities (weights)\n",
    "# First column: small facility\n",
    "# Second column: large facility\n",
    "capacityW = [2, 10] # maximum processing capacity\n",
    "costW = [2, 8.5] # cost\n",
    "waterW = [2, 2] # impact on water quality\n",
    "safetyW = [2, 2]; # impact on safety"
   ]
  },
  {
   "cell_type": "markdown",
   "metadata": {},
   "source": [
    "## Calculate Distances"
   ]
  },
  {
   "cell_type": "code",
   "execution_count": 159,
   "metadata": {},
   "outputs": [],
   "source": [
    "function calculateDistanceMatrix(landmarks,candidates)\n",
    "    n = size(landmarks,1)\n",
    "    m = size(candidates,1)\n",
    "\n",
    "    # Initialize distance matrix with zeros\n",
    "    D = zeros(n,m)\n",
    "\n",
    "    # Loop over all combinations of landmarks and candidate locations, calculate distance\n",
    "    for i = 1:n\n",
    "        for j = 1:m\n",
    "            D[i,j] = norm(landmarks[i,:] - candidates[j,:])\n",
    "        end\n",
    "    end\n",
    "\n",
    "    # Return distance matrix\n",
    "    return D\n",
    "end\n",
    "\n",
    "dFarmCand = calculateDistanceMatrix(farmLoc, candLoc)\n",
    "dCityCand = calculateDistanceMatrix(cityLoc, candLoc)\n",
    "dWaterCand = calculateDistanceMatrix(waterLoc,candLoc);"
   ]
  },
  {
   "cell_type": "markdown",
   "metadata": {},
   "source": [
    "## Define Optimization Model"
   ]
  },
  {
   "cell_type": "code",
   "execution_count": 160,
   "metadata": {},
   "outputs": [],
   "source": [
    "# Initialize model\n",
    "m = Model()\n",
    "\n",
    "# Define sets\n",
    "F = 1:nFarms\n",
    "U = 1:nUrban\n",
    "W = 1:nWater\n",
    "C = 1:nCand\n",
    "\n",
    "# Define four objectives\n",
    "@variable(m, f[1:4]);"
   ]
  },
  {
   "cell_type": "markdown",
   "metadata": {},
   "source": [
    "### Discrete Decisions"
   ]
  },
  {
   "cell_type": "code",
   "execution_count": 161,
   "metadata": {},
   "outputs": [],
   "source": [
    "# Build a SMALL facility at a candidate site? (binary)\n",
    "@variable(m, ySmall[C], Bin)\n",
    "\n",
    "# Build a LARGE facility at a candidate site? (binary)\n",
    "@variable(m, yLarge[C], Bin);\n",
    "\n",
    "# Only build one facility per candidate location\n",
    "@constraint(m, OnePerLocation[i=C], ySmall[i] + yLarge[i] <= 1);"
   ]
  },
  {
   "cell_type": "markdown",
   "metadata": {},
   "source": [
    "### Transportation network and cost (total distance)"
   ]
  },
  {
   "cell_type": "code",
   "execution_count": 162,
   "metadata": {},
   "outputs": [],
   "source": [
    "# The matrix 'net' models the flow of matrial in the transportation network.\n",
    "# Rows are farms (sources), columns are candidate facility locations (sinks)\n",
    "@variable(m, 0 <= net[F,C] <= 1)\n",
    "\n",
    "# Each farm produces 1 unit of waste\n",
    "@constraint(m, NetworkIn[i=F], sum(net[i,j] for j=C) == 1)\n",
    "                \n",
    "# Each facility cannot process more than its maximum capacity\n",
    "@constraint(m, NetworkOut[j=C], sum(net[i,j] for i=F) <= capacityW[1]*ySmall[j] + capacityW[2]*yLarge[j])\n",
    "\n",
    "# Calculate total distance from each farm to its assigned facility\n",
    "@constraint(m, f[1] == sum(dFarmCand[i,j]*net[i,j] for i=F for j=C));\n"
   ]
  },
  {
   "cell_type": "markdown",
   "metadata": {},
   "source": [
    "### Safety metric (distance)"
   ]
  },
  {
   "cell_type": "code",
   "execution_count": 163,
   "metadata": {},
   "outputs": [],
   "source": [
    "# For each urban center, calculate the distance to the NEAREST facility\n",
    "@variable(m, minDistUtoC[U] >= 0)\n",
    "\n",
    "# Big-M value, used for relaxation\n",
    "M = sqrt(2)\n",
    "\n",
    "# Calculate distance to NEAREST facility\n",
    "@constraint(m, CalcMinDistUtoC[i=U, j=C], minDistUtoC[i] <= dCityCand[i,j]*(safetyW[1]*ySmall[j] + safetyW[2]*yLarge[j]) + M*maximum(safetyW)*(1 - ySmall[j] - yLarge[j]))\n",
    "\n",
    "# Calculate total distance for each urban center to nearest facility\n",
    "@constraint(m, f[2] == sum(minDistUtoC[i] for i=U));"
   ]
  },
  {
   "cell_type": "markdown",
   "metadata": {},
   "source": [
    "### Water quality (distance)"
   ]
  },
  {
   "cell_type": "code",
   "execution_count": 164,
   "metadata": {},
   "outputs": [],
   "source": [
    "# For each water body, calculate the distance to the NEAREST facility\n",
    "@variable(m, minDistWtoC[W] >= 0)\n",
    "\n",
    "# Big-M value, used for relaxation\n",
    "M = sqrt(2)\n",
    "\n",
    "# Calculate distance to NEAREST facility\n",
    "@constraint(m, CalcMinDistWtoC[i=W, j=C], minDistWtoC[i] <= dWaterCand[i,j]*(waterW[1]*ySmall[j] + waterW[2]*yLarge[j]) + M*maximum(waterW)*(1 - ySmall[j] - yLarge[j]))\n",
    "\n",
    "# Calculate total distance for each water body to nearest facility\n",
    "@constraint(m, f[3] == sum(minDistWtoC[i] for i=W));"
   ]
  },
  {
   "cell_type": "markdown",
   "metadata": {},
   "source": [
    "### Investment Cost"
   ]
  },
  {
   "cell_type": "code",
   "execution_count": 165,
   "metadata": {},
   "outputs": [
    {
     "data": {
      "text/latex": [
       "$$ f_{4} - 2 ySmall_{1} - 8.5 yLarge_{1} - 2 ySmall_{2} - 8.5 yLarge_{2} - 2 ySmall_{3} - 8.5 yLarge_{3} - 2 ySmall_{4} - 8.5 yLarge_{4} - 2 ySmall_{5} - 8.5 yLarge_{5} - 2 ySmall_{6} - 8.5 yLarge_{6} - 2 ySmall_{7} - 8.5 yLarge_{7} - 2 ySmall_{8} - 8.5 yLarge_{8} - 2 ySmall_{9} - 8.5 yLarge_{9} - 2 ySmall_{10} - 8.5 yLarge_{10} - 2 ySmall_{11} - 8.5 yLarge_{11} - 2 ySmall_{12} - 8.5 yLarge_{12} - 2 ySmall_{13} - 8.5 yLarge_{13} - 2 ySmall_{14} - 8.5 yLarge_{14} - 2 ySmall_{15} - 8.5 yLarge_{15} - 2 ySmall_{16} - 8.5 yLarge_{16} - 2 ySmall_{17} - 8.5 yLarge_{17} - 2 ySmall_{18} - 8.5 yLarge_{18} - 2 ySmall_{19} - 8.5 yLarge_{19} - 2 ySmall_{20} - 8.5 yLarge_{20} - 2 ySmall_{21} - 8.5 yLarge_{21} - 2 ySmall_{22} - 8.5 yLarge_{22} - 2 ySmall_{23} - 8.5 yLarge_{23} - 2 ySmall_{24} - 8.5 yLarge_{24} - 2 ySmall_{25} - 8.5 yLarge_{25} - 2 ySmall_{26} - 8.5 yLarge_{26} - 2 ySmall_{27} - 8.5 yLarge_{27} - 2 ySmall_{28} - 8.5 yLarge_{28} - 2 ySmall_{29} - 8.5 yLarge_{29} - 2 ySmall_{30} - 8.5 yLarge_{30} = 0 $$"
      ],
      "text/plain": [
       "f[4] - 2 ySmall[1] - 8.5 yLarge[1] - 2 ySmall[2] - 8.5 yLarge[2] - 2 ySmall[3] - 8.5 yLarge[3] - 2 ySmall[4] - 8.5 yLarge[4] - 2 ySmall[5] - 8.5 yLarge[5] - 2 ySmall[6] - 8.5 yLarge[6] - 2 ySmall[7] - 8.5 yLarge[7] - 2 ySmall[8] - 8.5 yLarge[8] - 2 ySmall[9] - 8.5 yLarge[9] - 2 ySmall[10] - 8.5 yLarge[10] - 2 ySmall[11] - 8.5 yLarge[11] - 2 ySmall[12] - 8.5 yLarge[12] - 2 ySmall[13] - 8.5 yLarge[13] - 2 ySmall[14] - 8.5 yLarge[14] - 2 ySmall[15] - 8.5 yLarge[15] - 2 ySmall[16] - 8.5 yLarge[16] - 2 ySmall[17] - 8.5 yLarge[17] - 2 ySmall[18] - 8.5 yLarge[18] - 2 ySmall[19] - 8.5 yLarge[19] - 2 ySmall[20] - 8.5 yLarge[20] - 2 ySmall[21] - 8.5 yLarge[21] - 2 ySmall[22] - 8.5 yLarge[22] - 2 ySmall[23] - 8.5 yLarge[23] - 2 ySmall[24] - 8.5 yLarge[24] - 2 ySmall[25] - 8.5 yLarge[25] - 2 ySmall[26] - 8.5 yLarge[26] - 2 ySmall[27] - 8.5 yLarge[27] - 2 ySmall[28] - 8.5 yLarge[28] - 2 ySmall[29] - 8.5 yLarge[29] - 2 ySmall[30] - 8.5 yLarge[30] = 0"
      ]
     },
     "execution_count": 165,
     "metadata": {},
     "output_type": "execute_result"
    }
   ],
   "source": [
    "# Calculate total cost\n",
    "@constraint(m, f[4] == sum(ySmall[i]*costW[1] + yLarge[i]*costW[2] for i=C));"
   ]
  },
  {
   "cell_type": "markdown",
   "metadata": {},
   "source": [
    "### Specify Objective"
   ]
  },
  {
   "cell_type": "code",
   "execution_count": 166,
   "metadata": {},
   "outputs": [],
   "source": [
    "# Specify weights for each objective (convert to common units)\\\n",
    "wobj = zeros(4)\n",
    "\n",
    "# Transportation cost\n",
    "wobj[1] = 0.1\n",
    "\n",
    "# Safety (distance between facilities and urban centers)\n",
    "wobj[2] = -0.2\n",
    "\n",
    "# Water quality (distance between facilities and body of water)\n",
    "wobj[3] = -0.3\n",
    "\n",
    "# Investment cost\n",
    "wobj[4] = 1\n",
    "\n",
    "@objective(m, Min, sum(wobj[i]*f[i] for i = 1:4));"
   ]
  },
  {
   "cell_type": "markdown",
   "metadata": {},
   "source": [
    "## Solve and Visualize Results"
   ]
  },
  {
   "cell_type": "markdown",
   "metadata": {},
   "source": [
    "### Inspect optimization model"
   ]
  },
  {
   "cell_type": "code",
   "execution_count": null,
   "metadata": {},
   "outputs": [],
   "source": [
    "m"
   ]
  },
  {
   "cell_type": "markdown",
   "metadata": {},
   "source": [
    "### Solve optimization problem using **Cbc** (open source)"
   ]
  },
  {
   "cell_type": "code",
   "execution_count": null,
   "metadata": {},
   "outputs": [],
   "source": [
    "setsolver(m, CbcSolver())\n",
    "solve(m)"
   ]
  },
  {
   "cell_type": "code",
   "execution_count": null,
   "metadata": {},
   "outputs": [],
   "source": [
    "println(\"Objectives: \")\n",
    "println(getvalue(f))"
   ]
  },
  {
   "cell_type": "markdown",
   "metadata": {},
   "source": [
    "### Visualize solution using PyPlot"
   ]
  },
  {
   "cell_type": "code",
   "execution_count": null,
   "metadata": {},
   "outputs": [],
   "source": [
    "figure\n",
    "\n",
    "# Plot candidate locations\n",
    "scatter(candLoc[:,1], candLoc[:,2],label=\"Candidates\",color=\"grey\",marker=\".\")\n",
    "\n",
    "# Visualize waste transportation network\n",
    "net_sln = getvalue(net)\n",
    "for i = F\n",
    "    for j = C\n",
    "        if(net_sln[i,j] > 0.001)\n",
    "            x = [farmLoc[i,1], candLoc[j,1]]\n",
    "            y = [farmLoc[i,2], candLoc[j,2]]\n",
    "            plot(x, y, color=\"black\", linestyle=\"--\",linewidth=1)\n",
    "        end\n",
    "    end\n",
    "end\n",
    "\n",
    "# Plot lakes\n",
    "scatter(waterLoc[:,1], waterLoc[:,2],label=\"Lakes\",color=\"blue\",marker=\"o\")\n",
    "\n",
    "# Plot cities\n",
    "scatter(cityLoc[:,1],cityLoc[:,2],label=\"Cities\",color=\"green\",marker=\"s\")\n",
    "\n",
    "# Plot farms\n",
    "scatter(farmLoc[:,1],farmLoc[:,2],label=\"Farms\",color=\"red\",marker=\"^\")\n",
    "\n",
    "# Plot large facilities\n",
    "yLarge_sln = getvalue(yLarge)\n",
    "ii = []\n",
    "for i = C\n",
    "    if(yLarge_sln[i] > 0.999)\n",
    "        append!(ii, i)\n",
    "    end\n",
    "end\n",
    "scatter(candLoc[ii,1], candLoc[ii,2],label=\"Large\",color=\"black\",marker=\"*\",s=100)\n",
    "\n",
    "# Plot small facilities\n",
    "ySmall_sln = getvalue(ySmall)\n",
    "ii = []\n",
    "for i = C\n",
    "    if(ySmall_sln[i] > 0.999)\n",
    "        append!(ii, i)\n",
    "    end\n",
    "end\n",
    "scatter(candLoc[ii,1], candLoc[ii,2],label=\"Small\",color=\"black\",marker=\"x\",s=50)\n",
    "\n",
    "# Add legend\n",
    "legend(loc=\"center left\", bbox_to_anchor=(1.05, 0.5))"
   ]
  },
  {
   "cell_type": "markdown",
   "metadata": {},
   "source": [
    "## Activity"
   ]
  },
  {
   "cell_type": "markdown",
   "metadata": {},
   "source": [
    "Adjust the objective weights and resolve to see how the solution changes."
   ]
  }
 ],
 "metadata": {
  "kernelspec": {
   "display_name": "Julia 0.6.0",
   "language": "julia",
   "name": "julia-0.6"
  },
  "language_info": {
   "file_extension": ".jl",
   "mimetype": "application/julia",
   "name": "julia",
   "version": "0.6.0"
  }
 },
 "nbformat": 4,
 "nbformat_minor": 2
}
