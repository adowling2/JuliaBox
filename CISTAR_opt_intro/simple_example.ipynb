{
 "cells": [
  {
   "cell_type": "markdown",
   "metadata": {},
   "source": [
    "# Simple optimization example\n",
    "\n",
    "Created by Alex Dowling (adowling@nd.edu).\n",
    "Last updated March 1, 2018\n",
    "\n",
    "Model adapted from Dowling, Ruiz-Mercado, Zavala (2016), Computers & Chemical Engineering."
   ]
  },
  {
   "cell_type": "markdown",
   "metadata": {},
   "source": [
    "## Load modules"
   ]
  },
  {
   "cell_type": "code",
   "execution_count": null,
   "metadata": {},
   "outputs": [],
   "source": [
    "using JuMP\n",
    "using Clp\n",
    "using PyPlot"
   ]
  },
  {
   "cell_type": "markdown",
   "metadata": {},
   "source": [
    "## Define optimization problem"
   ]
  },
  {
   "cell_type": "code",
   "execution_count": null,
   "metadata": {},
   "outputs": [],
   "source": [
    "# Create empty model\n",
    "m = Model()\n",
    "\n",
    "# Add variables\n",
    "@variable(m, 0 <= x[0:2] <= 2/3)\n",
    "\n",
    "# Add constraint\n",
    "@constraint(m, x[0] + x[1] + x[2] >= 1)\n",
    "\n",
    "# Set objective\n",
    "@objective(m, Min, 0.5*x[0] + 0.2*x[1] + 0.3*x[2])\n",
    "\n",
    "# Display model\n",
    "m"
   ]
  },
  {
   "cell_type": "markdown",
   "metadata": {},
   "source": [
    "## Solve Model"
   ]
  },
  {
   "cell_type": "code",
   "execution_count": null,
   "metadata": {},
   "outputs": [],
   "source": [
    "setsolver(m, ClpSolver())\n",
    "solve(m)"
   ]
  },
  {
   "cell_type": "markdown",
   "metadata": {},
   "source": [
    "## Inspect Solution"
   ]
  },
  {
   "cell_type": "code",
   "execution_count": null,
   "metadata": {},
   "outputs": [],
   "source": [
    "print(getvalue(x))"
   ]
  },
  {
   "cell_type": "markdown",
   "metadata": {},
   "source": [
    "## Visualize Results"
   ]
  },
  {
   "cell_type": "code",
   "execution_count": null,
   "metadata": {},
   "outputs": [],
   "source": [
    "### Plot Pareto surface\n",
    "# Define vertices\n",
    "xv = [2/3; 2/3; 1/3; 0;   0;   1/3]\n",
    "yv = [1/3; 0;   0;   1/3; 2/3; 2/3]\n",
    "zv = [0;   1/3; 2/3; 2/3; 1/3; 0]\n",
    "\n",
    "# Create polygon\n",
    "Poly3DCollection = PyPlot.mplot3d[:art3d][:Poly3DCollection]\n",
    "fig = figure()\n",
    "ax = Axes3D(fig)\n",
    "verts = (collect(zip(xv,yv,zv)),)\n",
    "ax[:add_collection3d](Poly3DCollection(verts, color = \"gray\", alpha=0.25)) \n",
    "\n",
    "### Plot results\n",
    "x_sln = getvalue(x)\n",
    "scatter3D(x_sln[0], x_sln[1], x_sln[2],color=\"r\", marker=\"o\")\n",
    "\n",
    "### Adjust plot aesthetics\n",
    "xlabel(L\"x_0\",fontsize=18)\n",
    "ylabel(L\"x_1\",fontsize=18)\n",
    "zlabel(L\"x_2\",fontsize=18)\n",
    "\n",
    "xlim(0,1)\n",
    "ylim(0,1)\n",
    "zlim(0,1)\n",
    "\n",
    "ax[:view_init](30,45)"
   ]
  },
  {
   "cell_type": "markdown",
   "metadata": {},
   "source": [
    "## Activity\n",
    "Change the weights in the objective and see how the solution changes."
   ]
  },
  {
   "cell_type": "code",
   "execution_count": null,
   "metadata": {},
   "outputs": [],
   "source": []
  }
 ],
 "metadata": {
  "kernelspec": {
   "display_name": "Julia 0.6.0",
   "language": "julia",
   "name": "julia-0.6"
  },
  "language_info": {
   "file_extension": ".jl",
   "mimetype": "application/julia",
   "name": "julia",
   "version": "0.6.0"
  }
 },
 "nbformat": 4,
 "nbformat_minor": 2
}
